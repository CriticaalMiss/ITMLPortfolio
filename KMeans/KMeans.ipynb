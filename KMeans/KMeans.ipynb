{
    "metadata": {
        "kernelspec": {
            "name": "python3",
            "display_name": "Python 3 (ipykernel)",
            "language": "python"
        }
    },
    "nbformat": 4,
    "nbformat_minor": 5,
    "cells": [
        {
            "attachments": {},
            "cell_type": "markdown",
            "metadata": {},
            "source": [
                "## K-Means Clustering\n",
                "\n",
                "### An Unsupervised Learning Algorithm\n",
                "\n",
                "\u003ccenter\u003e\u003cimg src=\"k-means-graph.gif\" width=\"350\" /\u003e\u003c/center\u003e\n",
                "\n",
                "### Unspervised Learning\n",
                "Unsupervised learning is a type of machine learning where the algorithm learns from unlabeled data, meaning that the data does not have explicit target labels or outputs associated with it. In unsupervised learning, the goal is to explore the inherent patterns, relationships, and structures within the data without the guidance of labeled examples."
            ]
        },
        {
            "attachments": {},
            "cell_type": "markdown",
            "metadata": {},
            "source": [
                "## Explanation\n",
                "\n",
                "K-Means aims to minimize the sum of squared distances between data points and their assigned centroids within a cluster. It's an iterative process that refines the clusters in each iteration to create more compact and cohesive groups of data points.\n",
                "\n",
                "- Watch: [Computerphile - K-Means Algorithm](https://www.youtube.com/watch?v=yR7k19YBqiw)\n",
                "\n",
                "\n",
                "### Step by Step\n",
                "\n",
                "1. Choose 'k' (number of clusters) as 3.\n",
                "\n",
                "2. Randomly initialize three centroids.\n",
                "\n",
                "3. Assign each data point to the closest centroid.\n",
                "\n",
                "4. Calculate the new centroids based on the assigned data points.\n",
                "\n",
                "5. Repeat the assignment and centroid update steps for a few iterations until convergence.\n",
                "\n",
                "6. Once the algorithm converges, you'll have three clusters with customer data points grouped together."
            ]
        },
        {
            "cell_type": "code",
            "execution_count": 9,
            "metadata": {},
            "outputs": [],
            "source": [
                "# Libraries\n",
                "import numpy as np\n",
                "import pandas as pd\n",
                "import matplotlib.pyplot as plt\n",
                "from matplotlib import rcParams\n",
                "\n",
                "import sklearn\n",
                "from sklearn.cluster import KMeans\n",
                "from mpl_toolkits.mplot3d import Axes3D\n",
                "from sklearn.preprocessing import scale\n",
                "\n",
                "import sklearn.metrics as am\n",
                "from sklearn import datasets\n",
                "from sklearn.metrics import confusion_matrix,classification_report"
            ]
        },
        {
            "cell_type": "code",
            "execution_count": 10,
            "metadata": {},
            "outputs": [],
            "source": [
                "# Graph setup\n",
                "%matplotlib inline\n",
                "rcParams['figure.figsize'] = 7,4"
            ]
        },
        {
            "cell_type": "code",
            "execution_count": 11,
            "metadata": {},
            "outputs": [
                {
                    "data": {
                        "text/plain": "array([[-0.90068117,  1.01900435, -1.34022653, -1.3154443 ],\n       [-1.14301691, -0.13197948, -1.34022653, -1.3154443 ],\n       [-1.38535265,  0.32841405, -1.39706395, -1.3154443 ],\n       [-1.50652052,  0.09821729, -1.2833891 , -1.3154443 ],\n       [-1.02184904,  1.24920112, -1.34022653, -1.3154443 ],\n       [-0.53717756,  1.93979142, -1.16971425, -1.05217993],\n       [-1.50652052,  0.78880759, -1.34022653, -1.18381211],\n       [-1.02184904,  0.78880759, -1.2833891 , -1.3154443 ],\n       [-1.74885626, -0.36217625, -1.34022653, -1.3154443 ],\n       [-1.14301691,  0.09821729, -1.2833891 , -1.44707648]])"
                    },
                    "execution_count": 11,
                    "metadata": {},
                    "output_type": "execute_result"
                }
            ],
            "source": [
                "# We will use the scikit built-in dataset 'Iris' - https://en.wikipedia.org/wiki/Iris_flower_data_set\n",
                "iris = datasets.load_iris()\n",
                "\n",
                "X = scale(iris.data)\n",
                "\n",
                "y = pd.DataFrame(iris.target)\n",
                "variable_names = iris.feature_names\n",
                "X[0:10,]"
            ]
        },
        {
            "attachments": {},
            "cell_type": "markdown",
            "metadata": {},
            "source": [
                "## Build and run the model"
            ]
        },
        {
            "cell_type": "code",
            "execution_count": 12,
            "metadata": {},
            "outputs": [],
            "source": [
                ""
            ]
        }
    ]
}
